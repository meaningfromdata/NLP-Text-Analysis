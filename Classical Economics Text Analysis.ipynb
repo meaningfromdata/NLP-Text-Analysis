{
 "cells": [
  {
   "cell_type": "code",
   "execution_count": 4,
   "metadata": {
    "ExecuteTime": {
     "end_time": "2018-05-07T18:30:14.858531Z",
     "start_time": "2018-05-07T18:30:14.852528Z"
    },
    "collapsed": true
   },
   "outputs": [],
   "source": [
    "### Importing requests, BeautifulSoup and nltk\n",
    "import requests\n",
    "from bs4 import BeautifulSoup\n",
    "import nltk"
   ]
  },
  {
   "cell_type": "code",
   "execution_count": 7,
   "metadata": {
    "ExecuteTime": {
     "end_time": "2018-05-07T18:32:06.221416Z",
     "start_time": "2018-05-07T18:32:01.796254Z"
    }
   },
   "outputs": [],
   "source": [
    "### html from Project Gutenberg for 'Wealth of Nations' by Smith, 'On the Principles of Political Economy and Taxation' by Ricardo, \n",
    "### 'Principles of Political Economy' by Mill and 'The Condition of the Working-Class in England in 1844' by Engels  \n",
    "\n",
    "wealth = requests.get('http://www.gutenberg.org/files/3300/3300-h/3300-h.htm')\n",
    "taxation = requests.get('http://www.gutenberg.org/files/33310/33310-h/33310-h.htm')\n",
    "polyEcon = requests.get('http://www.gutenberg.org/files/30107/30107-h/30107-h.html')\n",
    "workingClass = requests.get('http://www.gutenberg.org/files/17306/17306-h/17306-h.htm')"
   ]
  },
  {
   "cell_type": "code",
   "execution_count": 8,
   "metadata": {
    "ExecuteTime": {
     "end_time": "2018-05-07T18:32:21.300841Z",
     "start_time": "2018-05-07T18:32:21.294851Z"
    },
    "collapsed": true
   },
   "outputs": [],
   "source": [
    "### combine raw econ texts into a list that can be iterated through\n",
    "\n",
    "econTexts_raw = [wealth, taxation, polyEcon, workingClass]"
   ]
  },
  {
   "cell_type": "code",
   "execution_count": 14,
   "metadata": {
    "ExecuteTime": {
     "end_time": "2018-05-07T18:41:58.323243Z",
     "start_time": "2018-05-07T18:41:56.474345Z"
    },
    "collapsed": true
   },
   "outputs": [],
   "source": [
    "### do some processing on raw texts, then create dict and assign dict keys (author last names) to texts processed by BeautifulSoup\n",
    "\n",
    "econTextNames = ['Smith', 'Ricardo', 'Mill', 'Engels']\n",
    "econDict = {}\n",
    "\n",
    "for i, t in enumerate(econTexts_raw):\n",
    "    t.encoding = 'utf-8'\n",
    "    t_html = t.text\n",
    "    t_soup = BeautifulSoup(t_html, 'html.parser')\n",
    "    t_text = t_soup.get_text()\n",
    "    econDict[econTextNames[i]] = t_text"
   ]
  },
  {
   "cell_type": "code",
   "execution_count": 15,
   "metadata": {
    "ExecuteTime": {
     "end_time": "2018-05-07T18:42:00.918363Z",
     "start_time": "2018-05-07T18:42:00.907354Z"
    }
   },
   "outputs": [
    {
     "data": {
      "text/plain": [
       "dict_keys(['Smith', 'Ricardo', 'Mill', 'Engels'])"
      ]
     },
     "execution_count": 15,
     "metadata": {},
     "output_type": "execute_result"
    }
   ],
   "source": [
    "econDict.keys()"
   ]
  },
  {
   "cell_type": "code",
   "execution_count": 79,
   "metadata": {
    "ExecuteTime": {
     "end_time": "2018-05-08T11:24:30.375910Z",
     "start_time": "2018-05-08T11:24:30.186775Z"
    }
   },
   "outputs": [
    {
     "data": {
      "text/plain": [
       "'\\n\\n\\n\\n\\r\\n      An Inquiry Into the Nature and Causes of The Wealth Of Nations, by Adam\\r\\n      Smith\\r\\n    \\n\\r\\n    \\r\\n    body { margin:5%; background:#faebd0; text-align:justify}\\r\\n    P { text-indent: 1em; margin-top: .25em; margin-bottom: .25em; }\\r\\n    H1,H2,H3,H4,H5,H6 { text-align: center; margin-left: 15%; margin-right: 15%; }\\r\\n    hr  { width: 50%; text-align: center;}\\r\\n    .foot { margin-left: 20%; margin-right: 20%; text-align: justify; text-indent: -3em; font-size: 90%; }\\r\\n    blockquote {font-size: 97%; font-style: italic; margin-left: 10%; margin-right: 10%;}\\r\\n    .mynote    {background-color: #DDE; color: #000; padding: .5em; margin-left: 10%; margin-right: 10%; font-family: sans-serif; font-size: 95%;}\\r\\n    .toc       { margin-left: 10%; margin-bottom: .75em;}\\r\\n    .toc2      { margin-left: 20%;}\\r\\n    div.fig    { display:block; margin:0 auto; text-align:center; }\\r\\n    div.middle { margin-left: 20%; margin-right: 20%; text-align: justify; }\\r\\n    .figleft   {float: left; margin-le'"
      ]
     },
     "execution_count": 79,
     "metadata": {},
     "output_type": "execute_result"
    }
   ],
   "source": [
    "econDict['Smith'][:1000]"
   ]
  },
  {
   "cell_type": "code",
   "execution_count": 17,
   "metadata": {
    "ExecuteTime": {
     "end_time": "2018-05-07T18:42:50.042715Z",
     "start_time": "2018-05-07T18:42:50.027706Z"
    },
    "collapsed": true
   },
   "outputs": [],
   "source": [
    "from sklearn.feature_extraction.text import TfidfVectorizer\n",
    "\n",
    "from nltk.corpus import stopwords\n",
    "\n",
    "stopwords = nltk.corpus.stopwords.words('english')"
   ]
  },
  {
   "cell_type": "code",
   "execution_count": 20,
   "metadata": {
    "ExecuteTime": {
     "end_time": "2018-05-07T18:45:40.514198Z",
     "start_time": "2018-05-07T18:45:40.506193Z"
    }
   },
   "outputs": [
    {
     "data": {
      "text/plain": [
       "(4, dict_values)"
      ]
     },
     "execution_count": 20,
     "metadata": {},
     "output_type": "execute_result"
    }
   ],
   "source": [
    "(len(econDict.values()), type(econDict.values()))"
   ]
  },
  {
   "cell_type": "code",
   "execution_count": 21,
   "metadata": {
    "ExecuteTime": {
     "end_time": "2018-05-07T18:46:22.372205Z",
     "start_time": "2018-05-07T18:46:22.359697Z"
    },
    "collapsed": true
   },
   "outputs": [],
   "source": [
    "### put dictionary values (texts) into single list that will be corpus for use in NLP algorithms\n",
    "\n",
    "econ_corpus = [val for val in econDict.values()]"
   ]
  },
  {
   "cell_type": "code",
   "execution_count": 80,
   "metadata": {
    "ExecuteTime": {
     "end_time": "2018-05-08T11:24:51.356730Z",
     "start_time": "2018-05-08T11:24:51.348723Z"
    }
   },
   "outputs": [
    {
     "data": {
      "text/plain": [
       "'\\n\\n\\n\\n\\r\\n      An Inquiry Into the Nature and Causes of The Wealth Of Nations, by Adam\\r\\n      Smith\\r\\n    \\n\\r\\n    \\r\\n    body { margin:5%; background:#faebd0; text-align:justify}\\r\\n    P { text-indent: 1em; margin-top: .25em; margin-bottom: .25em; }\\r\\n    H1,H2,H3,H4,H5,H6 { text-align: center; margin-left: 15%; margin-right: 15%; }\\r\\n    hr  { width: 50%; text-align: center;}\\r\\n    .foot { margin-left: 20%; margin-right: 20%; text-align: justify; text-indent: -3em; font-size: 90%; }\\r\\n    blockquote {font-size: 97%; font-style: italic; margin-left: 10%; margin-right: 10%;}\\r\\n    .mynote    {background-color: #DDE; color: #000; padding: .5em; margin-left: 10%; margin-right: 10%; font-family: sans-serif; font-size: 95%;}\\r\\n    .toc       { margin-left: 10%; margin-bottom: .75em;}\\r\\n    .toc2      { margin-left: 20%;}\\r\\n    div.fig    { display:block; margin:0 auto; text-align:center; }\\r\\n    div.middle { margin-left: 20%; margin-right: 20%; text-align: justify; }\\r\\n    .figleft   {float: left; margin-le'"
      ]
     },
     "execution_count": 80,
     "metadata": {},
     "output_type": "execute_result"
    }
   ],
   "source": [
    "econ_corpus[0][:1000]"
   ]
  },
  {
   "cell_type": "code",
   "execution_count": 23,
   "metadata": {
    "ExecuteTime": {
     "end_time": "2018-05-07T18:47:38.909537Z",
     "start_time": "2018-05-07T18:47:38.901530Z"
    }
   },
   "outputs": [
    {
     "data": {
      "text/plain": [
       "4"
      ]
     },
     "execution_count": 23,
     "metadata": {},
     "output_type": "execute_result"
    }
   ],
   "source": [
    "len(econ_corpus)"
   ]
  },
  {
   "cell_type": "code",
   "execution_count": 24,
   "metadata": {
    "ExecuteTime": {
     "end_time": "2018-05-07T18:47:59.429735Z",
     "start_time": "2018-05-07T18:47:59.421230Z"
    },
    "collapsed": true
   },
   "outputs": [],
   "source": [
    "from sklearn.feature_extraction.text import TfidfVectorizer\n",
    "\n",
    "from nltk.corpus import stopwords\n",
    "\n",
    "stopwords = nltk.corpus.stopwords.words('english')"
   ]
  },
  {
   "cell_type": "code",
   "execution_count": 25,
   "metadata": {
    "ExecuteTime": {
     "end_time": "2018-05-07T18:48:26.668778Z",
     "start_time": "2018-05-07T18:48:19.831055Z"
    },
    "collapsed": true
   },
   "outputs": [],
   "source": [
    "### instantiate the TfidfVectorizer allowing for ngrams of 1, 2 and 3 words in length to be used as features\n",
    "\n",
    "vectorizer = TfidfVectorizer(stop_words=stopwords, use_idf=True, ngram_range=(1,3))\n",
    "\n",
    "\n",
    "### fit the TfidfVectorizer to darwin_corpus and then generate document-term sparse matrix ('X') with Tf-idf scores\n",
    "\n",
    "X = vectorizer.fit_transform(econ_corpus)"
   ]
  },
  {
   "cell_type": "code",
   "execution_count": 26,
   "metadata": {
    "ExecuteTime": {
     "end_time": "2018-05-07T18:48:38.741438Z",
     "start_time": "2018-05-07T18:48:38.733433Z"
    }
   },
   "outputs": [
    {
     "data": {
      "text/plain": [
       "(4, 687520)"
      ]
     },
     "execution_count": 26,
     "metadata": {},
     "output_type": "execute_result"
    }
   ],
   "source": [
    "X.shape"
   ]
  },
  {
   "cell_type": "code",
   "execution_count": 27,
   "metadata": {
    "ExecuteTime": {
     "end_time": "2018-05-07T18:48:59.387534Z",
     "start_time": "2018-05-07T18:48:58.151154Z"
    }
   },
   "outputs": [
    {
     "data": {
      "text/plain": [
       "['00',\n",
       " '00 00',\n",
       " '00 00 00',\n",
       " '00 00 24',\n",
       " '00 00 33',\n",
       " '00 00 48',\n",
       " '00 00 96',\n",
       " '00 12',\n",
       " '00 12 00',\n",
       " '00 24',\n",
       " '00 24 00',\n",
       " '00 33',\n",
       " '00 33 32',\n",
       " '00 36',\n",
       " '00 36 00',\n",
       " '00 48',\n",
       " '00 48 00',\n",
       " '00 72',\n",
       " '00 72 00',\n",
       " '00 96',\n",
       " '00 96 00',\n",
       " '00 day',\n",
       " '00 day imagine',\n",
       " '00 pg',\n",
       " '00 pg 281',\n",
       " '000',\n",
       " '000 000',\n",
       " '000 000 000',\n",
       " '000 000 14',\n",
       " '000 000 140',\n",
       " '000 000 1722',\n",
       " '000 000 1825',\n",
       " '000 000 1871',\n",
       " '000 000 1874',\n",
       " '000 000 1881',\n",
       " '000 000 1883',\n",
       " '000 000 21',\n",
       " '000 000 272there',\n",
       " '000 000 335',\n",
       " '000 000 346',\n",
       " '000 000 44',\n",
       " '000 000 50',\n",
       " '000 000 600',\n",
       " '000 000 800',\n",
       " '000 000 absorbed',\n",
       " '000 000 accumulation',\n",
       " '000 000 acres',\n",
       " '000 000 actual',\n",
       " '000 000 actually',\n",
       " '000 000 although',\n",
       " '000 000 annual',\n",
       " '000 000 annually',\n",
       " '000 000 authorized',\n",
       " '000 000 bank',\n",
       " '000 000 beginning',\n",
       " '000 000 bonds',\n",
       " '000 000 built',\n",
       " '000 000 capital',\n",
       " '000 000 capitalist',\n",
       " '000 000 charge',\n",
       " '000 000 circulating',\n",
       " '000 000 circulation',\n",
       " '000 000 compromise',\n",
       " '000 000 customs',\n",
       " '000 000 debt',\n",
       " '000 000 demand',\n",
       " '000 000 deposit',\n",
       " '000 000 depreciation',\n",
       " '000 000 entire',\n",
       " '000 000 essential',\n",
       " '000 000 except',\n",
       " '000 000 finally',\n",
       " '000 000 formerly',\n",
       " '000 000 found',\n",
       " '000 000 france',\n",
       " '000 000 francs',\n",
       " '000 000 go',\n",
       " '000 000 gold',\n",
       " '000 000 governing',\n",
       " '000 000 great',\n",
       " '000 000 greenbacks',\n",
       " '000 000 guilders',\n",
       " '000 000 however',\n",
       " '000 000 iii',\n",
       " '000 000 including',\n",
       " '000 000 inhabitants',\n",
       " '000 000 instead',\n",
       " '000 000 ireland',\n",
       " '000 000 jan',\n",
       " '000 000 july',\n",
       " '000 000 june',\n",
       " '000 000 laborers',\n",
       " '000 000 loan',\n",
       " '000 000 loss',\n",
       " '000 000 machinery',\n",
       " '000 000 maintenance',\n",
       " '000 000 marks',\n",
       " '000 000 members',\n",
       " '000 000 month',\n",
       " '000 000 mule',\n",
       " '000 000 national',\n",
       " '000 000 new',\n",
       " '000 000 outlay',\n",
       " '000 000 paper',\n",
       " '000 000 paying',\n",
       " '000 000 per',\n",
       " '000 000 pieces',\n",
       " '000 000 pledged',\n",
       " '000 000 pounds',\n",
       " '000 000 productive',\n",
       " '000 000 profit',\n",
       " '000 000 provide',\n",
       " '000 000 question',\n",
       " '000 000 reality',\n",
       " '000 000 reason',\n",
       " '000 000 revenue',\n",
       " '000 000 saddled',\n",
       " '000 000 set',\n",
       " '000 000 shall',\n",
       " '000 000 side',\n",
       " '000 000 silver',\n",
       " '000 000 since',\n",
       " '000 000 single',\n",
       " '000 000 slight',\n",
       " '000 000 spirits',\n",
       " '000 000 spread',\n",
       " '000 000 sterling',\n",
       " '000 000 suddenly',\n",
       " '000 000 suffered',\n",
       " '000 000 sufficient',\n",
       " '000 000 taxes',\n",
       " '000 000 taxpayers',\n",
       " '000 000 tobacco',\n",
       " '000 000 tons',\n",
       " '000 000 war',\n",
       " '000 000 withdrawn',\n",
       " '000 000 worth',\n",
       " '000 000 yards',\n",
       " '000 000 year',\n",
       " '000 000deficit',\n",
       " '000 000deficit 150',\n",
       " '000 000interest',\n",
       " '000 000interest charge',\n",
       " '000 000l',\n",
       " '000 000l 100',\n",
       " '000 000l 31',\n",
       " '000 000l 44',\n",
       " '000 000l aggregate',\n",
       " '000 000l corn',\n",
       " '000 000l instead',\n",
       " '000 000l profits',\n",
       " '000 000l wheat',\n",
       " '000 000revenue',\n",
       " '000 000revenue period1',\n",
       " '000 000revenue time1',\n",
       " '000 000total',\n",
       " '000 000total amount',\n",
       " '000 000total cost',\n",
       " '000 045',\n",
       " '000 045 500',\n",
       " '000 053',\n",
       " '000 053 0001545',\n",
       " '000 10',\n",
       " '000 10 000',\n",
       " '000 100',\n",
       " '000 100 000',\n",
       " '000 100 called',\n",
       " '000 110',\n",
       " '000 110 000',\n",
       " '000 123',\n",
       " '000 123 000',\n",
       " '000 14',\n",
       " '000 14 000',\n",
       " '000 140',\n",
       " '000 140 000',\n",
       " '000 15',\n",
       " '000 15 grains',\n",
       " '000 1722',\n",
       " '000 1722 company',\n",
       " '000 1722 consequence',\n",
       " '000 180',\n",
       " '000 180 000',\n",
       " '000 1801',\n",
       " '000 1801 110',\n",
       " '000 1801 200',\n",
       " '000 1815',\n",
       " '000 1815 1846',\n",
       " '000 1825',\n",
       " '000 1825 large',\n",
       " '000 1831',\n",
       " '000 1831 77',\n",
       " '000 1831 nearly',\n",
       " '000 1837',\n",
       " '000 1837 number',\n",
       " '000 1844',\n",
       " '000 1844 consumption',\n",
       " '000 1844 sheffield',\n",
       " '000 1846',\n",
       " '000 1846 1856',\n",
       " '000 1856',\n",
       " '000 1856 1880',\n",
       " '000 1870',\n",
       " '000 1870 ten',\n",
       " '000 1871',\n",
       " '000 1871 1872',\n",
       " '000 1874',\n",
       " '000 1874 1875',\n",
       " '000 1880',\n",
       " '000 1880 return',\n",
       " '000 1881',\n",
       " '000 1881 words',\n",
       " '000 1883',\n",
       " '000 1883 1884',\n",
       " '000 1883 increased',\n",
       " '000 1883 raised',\n",
       " '000 194',\n",
       " '000 194 108',\n",
       " '000 20',\n",
       " '000 20 000',\n",
       " '000 200',\n",
       " '000 200 000',\n",
       " '000 21',\n",
       " '000 21 000',\n",
       " '000 21 333',\n",
       " '000 22',\n",
       " '000 22 600',\n",
       " '000 230',\n",
       " '000 230 285',\n",
       " '000 24',\n",
       " '000 24 944',\n",
       " '000 272there',\n",
       " '000 272there ireland',\n",
       " '000 300',\n",
       " '000 300 000',\n",
       " '000 32',\n",
       " '000 32 317',\n",
       " '000 335',\n",
       " '000 335 pg',\n",
       " '000 336',\n",
       " '000 336 families',\n",
       " '000 34',\n",
       " '000 34 000',\n",
       " '000 346',\n",
       " '000 346 000',\n",
       " '000 44',\n",
       " '000 44 000',\n",
       " '000 50',\n",
       " '000 50 000',\n",
       " '000 50 share',\n",
       " '000 52',\n",
       " '000 52 636',\n",
       " '000 600',\n",
       " '000 600 000',\n",
       " '000 800',\n",
       " '000 800 000',\n",
       " '000 96',\n",
       " '000 96 000',\n",
       " '000 980',\n",
       " '000 980 000',\n",
       " '000 absorbed',\n",
       " '000 absorbed 283',\n",
       " '000 according',\n",
       " '000 according lowest',\n",
       " '000 accumulation',\n",
       " '000 accumulation could',\n",
       " '000 acres',\n",
       " '000 acres land',\n",
       " '000 actual',\n",
       " '000 actual amount',\n",
       " '000 actually',\n",
       " '000 actually passed',\n",
       " '000 advanced',\n",
       " '000 advanced upon',\n",
       " '000 advances',\n",
       " '000 advances consist',\n",
       " '000 affairs',\n",
       " '000 affairs coal',\n",
       " '000 agricultural',\n",
       " '000 agricultural proletarians',\n",
       " '000 alteration',\n",
       " '000 alteration take',\n",
       " '000 although',\n",
       " '000 although commercial',\n",
       " '000 although great',\n",
       " '000 american',\n",
       " '000 american money',\n",
       " '000 annual',\n",
       " '000 annual payments',\n",
       " '000 annual production',\n",
       " '000 annually',\n",
       " '000 annually 317',\n",
       " '000 annuity',\n",
       " '000 annuity 100',\n",
       " '000 annuity 2s',\n",
       " '000 ashton',\n",
       " '000 ashton stalybridge',\n",
       " '000 authorized',\n",
       " '000 authorized july',\n",
       " '000 bank',\n",
       " '000 bank fund',\n",
       " '000 bank notes',\n",
       " '000 beginning',\n",
       " '000 beginning struggle',\n",
       " '000 beyond',\n",
       " '000 beyond late',\n",
       " '000 bills',\n",
       " '000 bills would',\n",
       " '000 bonds',\n",
       " '000 bonds brought',\n",
       " '000 bounties',\n",
       " '000 bounties paid',\n",
       " '000 bounties sometimes',\n",
       " '000 bridges',\n",
       " '000 bridges population',\n",
       " '000 bristol',\n",
       " '000 bristol 24',\n",
       " '000 built',\n",
       " '000 built back',\n",
       " '000 bushels',\n",
       " '000 bushels cause',\n",
       " '000 bushels corn',\n",
       " '000 business',\n",
       " '000 business draws',\n",
       " '000 buy',\n",
       " '000 buy bill',\n",
       " '000 capital',\n",
       " '000 capital 100',\n",
       " '000 capitalist',\n",
       " '000 capitalist gets',\n",
       " '000 charge',\n",
       " '000 charge actually',\n",
       " '000 charged',\n",
       " '000 charged one',\n",
       " '000 chart',\n",
       " '000 chart showing',\n",
       " '000 circulating',\n",
       " '000 circulating medium',\n",
       " '000 circulation',\n",
       " '000 circulation time',\n",
       " '000 claim',\n",
       " '000 claim holds',\n",
       " '000 commodity',\n",
       " '000 commodity evident',\n",
       " '000 compromise',\n",
       " '000 compromise measure',\n",
       " '000 condition',\n",
       " '000 condition applying',\n",
       " '000 considers',\n",
       " '000 considers legacy',\n",
       " '000 contribution',\n",
       " '000 contribution 000',\n",
       " '000 conversely',\n",
       " '000 conversely money',\n",
       " '000 cork',\n",
       " '000 cork fever',\n",
       " '000 customs',\n",
       " '000 customs excise',\n",
       " '000 debt',\n",
       " '000 debt extraordinary',\n",
       " '000 demand',\n",
       " '000 demand notes',\n",
       " '000 deposit',\n",
       " '000 deposit accounts',\n",
       " '000 depreciation',\n",
       " '000 depreciation took',\n",
       " '000 divided',\n",
       " '000 divided among',\n",
       " '000 dollars',\n",
       " '000 dollars silver',\n",
       " '000 edinburgh',\n",
       " '000 edinburgh 29',\n",
       " '000 english',\n",
       " '000 english gold',\n",
       " '000 english miles',\n",
       " '000 enough',\n",
       " '000 enough reimburse',\n",
       " '000 entire',\n",
       " '000 entire amount',\n",
       " '000 equal',\n",
       " '000 equal amount',\n",
       " '000 essential',\n",
       " '000 essential point',\n",
       " '000 example',\n",
       " '000 example 000',\n",
       " '000 except',\n",
       " '000 except interest',\n",
       " '000 exchange',\n",
       " '000 exchange 000',\n",
       " '000 exchange augment',\n",
       " '000 exchange equally',\n",
       " '000 expended',\n",
       " '000 expended directly',\n",
       " '000 expense',\n",
       " '000 expense management',\n",
       " '000 extensive',\n",
       " '000 extensive working',\n",
       " '000 far',\n",
       " '000 far question',\n",
       " '000 fever',\n",
       " '000 fever patients',\n",
       " '000 finally',\n",
       " '000 finally 1877',\n",
       " '000 formerly',\n",
       " '000 formerly existed',\n",
       " '000 found',\n",
       " '000 found moreover',\n",
       " '000 france',\n",
       " '000 france much',\n",
       " '000 francs',\n",
       " '000 francs assignats',\n",
       " '000 francs co',\n",
       " '000 francs employment',\n",
       " '000 francs expenses',\n",
       " '000 francs law',\n",
       " '000 francs net',\n",
       " '000 francs tenth',\n",
       " '000 gallons',\n",
       " '000 gallons 1837',\n",
       " '000 gallons england',\n",
       " '000 gallons least',\n",
       " '000 gallons spirits',\n",
       " '000 given',\n",
       " '000 given buildings',\n",
       " '000 glasgow',\n",
       " '000 glasgow 40',\n",
       " '000 go',\n",
       " '000 go enrich',\n",
       " '000 goes',\n",
       " '000 goes compensate',\n",
       " '000 gold',\n",
       " '000 gold across',\n",
       " '000 gold country',\n",
       " '000 gold december',\n",
       " '000 gold dollars',\n",
       " '000 gold england',\n",
       " '000 gold would',\n",
       " '000 governing',\n",
       " '000 governing majority',\n",
       " '000 great',\n",
       " '000 great part',\n",
       " '000 great share',\n",
       " '000 greenbacks',\n",
       " '000 greenbacks ordered',\n",
       " '000 greenbacks par',\n",
       " '000 guilders',\n",
       " '000 guilders great',\n",
       " '000 guilders public',\n",
       " '000 hand',\n",
       " '000 hand looms',\n",
       " '000 heads',\n",
       " '000 heads families',\n",
       " '000 high',\n",
       " '000 high price',\n",
       " '000 hogsheads',\n",
       " '000 hogsheads annually',\n",
       " '000 hogsheads tobacco',\n",
       " '000 horse',\n",
       " '000 horse power',\n",
       " '000 houses',\n",
       " '000 houses 000',\n",
       " '000 however',\n",
       " '000 however bravely',\n",
       " '000 huddersfield',\n",
       " '000 huddersfield 15',\n",
       " '000 human',\n",
       " '000 human beings',\n",
       " '000 iii',\n",
       " '000 iii following',\n",
       " '000 including',\n",
       " '000 including 75',\n",
       " '000 income',\n",
       " '000 income pays',\n",
       " '000 inhabitants',\n",
       " '000 inhabitants children',\n",
       " '000 inhabitants halifax',\n",
       " '000 inhabitants neighbouring',\n",
       " '000 inhabitants north',\n",
       " '000 inhabitants russia',\n",
       " '000 inhabitants trade',\n",
       " '000 instead',\n",
       " '000 instead 400',\n",
       " '000 instead sending',\n",
       " '000 interest',\n",
       " '000 interest 000',\n",
       " '000 ireland',\n",
       " '000 ireland 36',\n",
       " '000 jan',\n",
       " '000 jan 1865',\n",
       " '000 july',\n",
       " '000 july 1862',\n",
       " '000 july 1868',\n",
       " '000 june',\n",
       " '000 june 30',\n",
       " '000 laborers',\n",
       " '000 laborers nothing',\n",
       " '000 laborers united',\n",
       " '000 leeds',\n",
       " '000 leeds 53',\n",
       " '000 lent',\n",
       " '000 lent company',\n",
       " '000 less',\n",
       " '000 less 600',\n",
       " '000 liverpool',\n",
       " '000 liverpool 34',\n",
       " '000 liverpool also',\n",
       " '000 lives',\n",
       " '000 lives parts',\n",
       " '000 loan',\n",
       " '000 loan business',\n",
       " '000 loan capital',\n",
       " '000 london',\n",
       " '000 london sent',\n",
       " '000 loss',\n",
       " '000 loss gold',\n",
       " '000 machinery',\n",
       " '000 machinery alone',\n",
       " '000 made',\n",
       " '000 made wholly',\n",
       " '000 maintenance',\n",
       " '000 maintenance productive',\n",
       " '000 making',\n",
       " '000 making sum',\n",
       " '000 manchester',\n",
       " '000 manchester 40',\n",
       " '000 many',\n",
       " '000 many parishes',\n",
       " '000 marks',\n",
       " '000 marks important',\n",
       " '000 members',\n",
       " '000 members owning',\n",
       " '000 members represented',\n",
       " '000 men',\n",
       " '000 men 11',\n",
       " '000 men according',\n",
       " '000 men accustomed',\n",
       " '000 men kersall',\n",
       " '000 merchant',\n",
       " '000 merchant 110',\n",
       " '000 might',\n",
       " '000 might bought',\n",
       " '000 might made',\n",
       " '000 might till',\n",
       " '000 miles',\n",
       " '000 miles additional',\n",
       " '000 miners',\n",
       " '000 miners laid',\n",
       " '000 month',\n",
       " '000 month lack',\n",
       " '000 month suppose',\n",
       " '000 mule',\n",
       " '000 mule spindles',\n",
       " '000 national',\n",
       " '000 national bank',\n",
       " '000 new',\n",
       " '000 new debt',\n",
       " '000 new york',\n",
       " '000 notes',\n",
       " '000 notes issued',\n",
       " '000 notes put',\n",
       " '000 number',\n",
       " '000 number poor',\n",
       " '000 oldham',\n",
       " '000 oldham 50',\n",
       " '000 others',\n",
       " '000 others 300',\n",
       " '000 ounces',\n",
       " '000 ounces consumption',\n",
       " '000 ounces would',\n",
       " '000 outlay',\n",
       " '000 outlay 25',\n",
       " '000 owes',\n",
       " '000 owes bill',\n",
       " '000 padding',\n",
       " '000 padding 5em',\n",
       " '000 paid',\n",
       " '000 paid annuity',\n",
       " '000 paper',\n",
       " '000 paper form',\n",
       " '000 part',\n",
       " '000 part machinery',\n",
       " '000 particularly',\n",
       " '000 particularly important',\n",
       " '000 paying',\n",
       " '000 paying current',\n",
       " '000 pennsylvanian',\n",
       " '000 pennsylvanian coal',\n",
       " '000 people',\n",
       " '000 people though',\n",
       " '000 people universal',\n",
       " '000 per',\n",
       " '000 per annum',\n",
       " '000 per cent',\n",
       " '000 persons',\n",
       " '000 persons attacked',\n",
       " '000 persons could',\n",
       " '000 persons die',\n",
       " '000 persons induced',\n",
       " '000 persons similar',\n",
       " '000 persons space',\n",
       " '000 persons supported',\n",
       " '000 persons thirty',\n",
       " '000 persons thrown',\n",
       " '000 pg',\n",
       " '000 pg 329',\n",
       " '000 pg 529',\n",
       " '000 phraseology',\n",
       " '000 phraseology merchants',\n",
       " '000 piece',\n",
       " '000 piece changes',\n",
       " '000 pieces',\n",
       " '000 pieces printed',\n",
       " '000 pieces produced',\n",
       " '000 pieces rapid',\n",
       " '000 pieces woollen',\n",
       " '000 pledged',\n",
       " '000 pledged binding',\n",
       " '000 poor',\n",
       " '000 poor irish',\n",
       " '000 population',\n",
       " '000 population since',\n",
       " '000 pounds',\n",
       " '000 pounds 1834',\n",
       " '000 pounds cotton',\n",
       " '000 pounds earn',\n",
       " '000 pounds import',\n",
       " '000 pounds imported',\n",
       " '000 pounds raw',\n",
       " '000 pounds wool',\n",
       " '000 pounds worked',\n",
       " '000 power',\n",
       " '000 power 250',\n",
       " '000 present',\n",
       " '000 present state',\n",
       " '000 preston',\n",
       " '000 preston 60',\n",
       " '000 price',\n",
       " '000 price bond',\n",
       " '000 printed',\n",
       " '000 printed hand',\n",
       " '000 produce',\n",
       " '000 produce 20',\n",
       " '000 produced',\n",
       " '000 produced 000',\n",
       " '000 productive',\n",
       " '000 productive resources',\n",
       " '000 profit',\n",
       " '000 profit 100',\n",
       " '000 profit best',\n",
       " '000 profits',\n",
       " '000 profits trade',\n",
       " '000 proper',\n",
       " '000 proper application',\n",
       " '000 prostitutes',\n",
       " '000 prostitutes fill',\n",
       " '000 provide',\n",
       " '000 provide deficit',\n",
       " '000 public',\n",
       " '000 public education',\n",
       " '000 purpose',\n",
       " '000 purpose 1732',\n",
       " '000 put',\n",
       " '000 put upon',\n",
       " '000 quarters',\n",
       " '000 quarters 200',\n",
       " '000 quarters annually',\n",
       " '000 quarters demand',\n",
       " '000 quarters may',\n",
       " '000 quarters paid',\n",
       " '000 quarters produce',\n",
       " '000 question',\n",
       " '000 question nearly',\n",
       " '000 raised',\n",
       " '000 raised one',\n",
       " '000 reality',\n",
       " '000 reality borrowed',\n",
       " '000 reason',\n",
       " '000 reason provision',\n",
       " '000 received',\n",
       " '000 received sale',\n",
       " '000 remaining',\n",
       " '000 remaining 82',\n",
       " '000 return',\n",
       " '000 return land',\n",
       " '000 revenue',\n",
       " '000 revenue saved',\n",
       " '000 right',\n",
       " '000 right primogeniture',\n",
       " '000 rochdale',\n",
       " '000 rochdale 75',\n",
       " '000 saddled',\n",
       " '000 saddled country',\n",
       " '000 sank',\n",
       " '000 sank 36',\n",
       " '000 second',\n",
       " '000 second 13',\n",
       " '000 seignorage',\n",
       " '000 seignorage four',\n",
       " '000 sends',\n",
       " '000 sends bill',\n",
       " '000 sends collects',\n",
       " '000 sends wishes',\n",
       " '000 sent',\n",
       " '000 sent france',\n",
       " '000 set',\n",
       " '000 set aside',\n",
       " '000 several',\n",
       " '000 several persons',\n",
       " '000 shall',\n",
       " '000 shall lower',\n",
       " '000 side',\n",
       " '000 side afford',\n",
       " '000 silver',\n",
       " '000 silver market',\n",
       " '000 silver month',\n",
       " '000 since',\n",
       " '000 since 100',\n",
       " '000 since government',\n",
       " '000 since introduction',\n",
       " '000 since late',\n",
       " '000 single',\n",
       " '000 single trifling',\n",
       " '000 sleep',\n",
       " '000 sleep eat',\n",
       " '000 slight',\n",
       " '000 slight additional',\n",
       " '000 soldiers',\n",
       " '000 soldiers seamen',\n",
       " '000 something',\n",
       " '000 something something',\n",
       " '000 spent',\n",
       " '000 spent raw',\n",
       " '000 spindles',\n",
       " '000 spindles operation',\n",
       " '000 spirits',\n",
       " '000 spirits liquors',\n",
       " '000 spread',\n",
       " '000 spread whole',\n",
       " '000 state',\n",
       " '000 state two',\n",
       " '000 steadily',\n",
       " '000 steadily prospered',\n",
       " '000 sterling',\n",
       " '000 sterling according',\n",
       " '000 sterling eleven',\n",
       " '000 sterling gives',\n",
       " '000 sterling notwithstanding',\n",
       " '000 sterling odd',\n",
       " '000 sterling several',\n",
       " '000 sterling whole',\n",
       " '000 sterling years',\n",
       " '000 subscribed',\n",
       " '000 subscribed capital',\n",
       " '000 subscribed except',\n",
       " '000 subscribed stock',\n",
       " '000 subscribers',\n",
       " '000 subscribers encouragements',\n",
       " '000 suddenly',\n",
       " '000 suddenly 200',\n",
       " '000 suffered',\n",
       " '000 suffered severely',\n",
       " '000 sufficient',\n",
       " '000 sufficient reserve',\n",
       " '000 surplus',\n",
       " '000 surplus fund',\n",
       " '000 tax',\n",
       " '000 tax per',\n",
       " '000 taxes',\n",
       " '000 taxes year',\n",
       " '000 taxpayers',\n",
       " '000 taxpayers 109',\n",
       " '000 therefore',\n",
       " '000 therefore could',\n",
       " '000 things',\n",
       " '000 things change',\n",
       " '000 thus',\n",
       " '000 thus seen',\n",
       " '000 time',\n",
       " '000 time therefore',\n",
       " '000 times',\n",
       " '000 times 420l',\n",
       " '000 times 720l',\n",
       " '000 times pg',\n",
       " '000 times seventeen',\n",
       " '000 times ten',\n",
       " '000 title',\n",
       " '000 title money',\n",
       " '000 tobacco',\n",
       " '000 tobacco 1883',\n",
       " '000 tons',\n",
       " '000 tons 1805',\n",
       " '000 tons coal',\n",
       " '000 tons flax',\n",
       " '000 tons pig',\n",
       " '000 tons risen',\n",
       " '000 tons shipping',\n",
       " '000 tons smelting',\n",
       " '000 total',\n",
       " '000 total 140',\n",
       " '000 twenty',\n",
       " '000 twenty per',\n",
       " '000 two',\n",
       " '000 two half',\n",
       " '000 united',\n",
       " '000 united states',\n",
       " '000 use',\n",
       " '000 use legal',\n",
       " '000 value',\n",
       " '000 value received',\n",
       " '000 volumes',\n",
       " '000 volumes classes',\n",
       " '000 wages',\n",
       " '000 wages fund',\n",
       " '000 war',\n",
       " '000 war carried',\n",
       " '000 weekly',\n",
       " '000 weekly dispatch',\n",
       " '000 whole',\n",
       " '000 whole list',\n",
       " '000 whole west',\n",
       " '000 wholly',\n",
       " '000 wholly exhausted',\n",
       " '000 withdrawn',\n",
       " '000 withdrawn secretary',\n",
       " '000 without',\n",
       " '000 without interest',\n",
       " '000 without use',\n",
       " '000 women',\n",
       " '000 women children',\n",
       " '000 work',\n",
       " '000 work people',\n",
       " '000 worked',\n",
       " '000 worked mills',\n",
       " '000 workers',\n",
       " '000 workers located',\n",
       " '000 workers one',\n",
       " '000 working',\n",
       " '000 working people',\n",
       " '000 worth',\n",
       " '000 worth coin',\n",
       " '000 worth cotton',\n",
       " '000 worth gold',\n",
       " '000 worth tea',\n",
       " '000 worth tobacco',\n",
       " '000 worth wine',\n",
       " '000 would',\n",
       " '000 would form',\n",
       " '000 would sell',\n",
       " '000 yards',\n",
       " '000 yards 1800',\n",
       " '000 yards 1820',\n",
       " '000 yards 1833',\n",
       " '000 yards 500',\n",
       " '000 yards cloth',\n",
       " '000 yards efficiency',\n",
       " '000 yards pg',\n",
       " '000 yards profit',\n",
       " '000 yards suppose',\n",
       " '000 yards woven',\n",
       " '000 year',\n",
       " '000 year 000',\n",
       " '000 year according',\n",
       " '000 year also',\n",
       " '000 year brazils',\n",
       " '000 year cannot',\n",
       " '000 year common',\n",
       " '000 year cursitor',\n",
       " '000 year expense',\n",
       " '000 year gold',\n",
       " '000 year gradually',\n",
       " '000 year interest',\n",
       " '000 year manner',\n",
       " '000 year new',\n",
       " '000 year question',\n",
       " '000 year secondly',\n",
       " '000 year sixteen',\n",
       " '000 year spend',\n",
       " '000 year two',\n",
       " '000 year well',\n",
       " '000 yearly',\n",
       " '000 yearly france',\n",
       " '0001',\n",
       " '0001 267',\n",
       " '0001 267 000sales2',\n",
       " '0001 617',\n",
       " '0001 617 000',\n",
       " '000119',\n",
       " '000119 045',\n",
       " '000119 045 750',\n",
       " '000119 710',\n",
       " '000119 710 000',\n",
       " '00013',\n",
       " '00013 308',\n",
       " '00013 308 250',\n",
       " '0001431820',\n",
       " '0001431820 1830151',\n",
       " '0001431820 1830151 8241831',\n",
       " '0001545',\n",
       " '0001545 156014',\n",
       " '0001545 156014 022',\n",
       " '00016',\n",
       " '00016 000',\n",
       " '00016 000 000',\n",
       " '0001601',\n",
       " '0001601 162019',\n",
       " '0001601 162019 030',\n",
       " '0001701',\n",
       " '0001701 172016',\n",
       " '0001701 172016 002',\n",
       " '0001721',\n",
       " '0001721 174019',\n",
       " '0001721 174019 404',\n",
       " '0001761',\n",
       " '0001761 178029',\n",
       " '0001761 178029 373',\n",
       " '0001781',\n",
       " '0001781 180039',\n",
       " '0001781 180039 557',\n",
       " '00018',\n",
       " '00018 000',\n",
       " '00018 000 000',\n",
       " '0001831',\n",
       " '0001831 184026',\n",
       " '0001831 184026 840',\n",
       " '0001851',\n",
       " '0001851 185539',\n",
       " '0001851 185539 875',\n",
       " '0001856',\n",
       " '0001856 186040',\n",
       " '0001856 186040 724',\n",
       " '0001866',\n",
       " '0001866 187060',\n",
       " '0001866 187060 258',\n",
       " '00018691',\n",
       " '00018691 491',\n",
       " '00018691 491 412',\n",
       " '00020',\n",
       " '00020 901',\n",
       " '00020 901 000net',\n",
       " '0003350',\n",
       " '0003350 155',\n",
       " '0003350 155 783',\n",
       " '0004',\n",
       " '0004 994',\n",
       " '0004 994 000',\n",
       " '0005',\n",
       " '0005 789',\n",
       " '0005 789 250',\n",
       " '0005 881',\n",
       " '0005 881 000capital',\n",
       " '0005 935',\n",
       " '0005 935 500',\n",
       " '000525',\n",
       " '000525 000capital',\n",
       " '000525 000capital share428',\n",
       " '0006',\n",
       " '0006 458',\n",
       " '0006 458 750',\n",
       " '0007',\n",
       " '0007 000',\n",
       " '0007 000 000',\n",
       " '0008',\n",
       " '0008 942',\n",
       " '0008 942 000',\n",
       " '000capital',\n",
       " '000capital loan55',\n",
       " '000capital loan55 0001',\n",
       " '000capital share428',\n",
       " '000capital share428 0005',\n",
       " '000deficit',\n",
       " '000deficit 150',\n",
       " '000deficit 150 000',\n",
       " '000interest',\n",
       " '000interest charge',\n",
       " '000interest charge existing',\n",
       " '000l',\n",
       " '000l 10',\n",
       " '000l 10 200l',\n",
       " '000l 100',\n",
       " '000l 100 000l',\n",
       " '000l 105',\n",
       " '000l 105 000',\n",
       " '000l 11',\n",
       " '000l 11 consequently',\n",
       " '000l 18',\n",
       " '000l 18 per',\n",
       " '000l 19',\n",
       " '000l 19 per',\n",
       " '000l 20',\n",
       " '000l 20 000l',\n",
       " '000l 20 100',\n",
       " '000l 2s',\n",
       " '000l 2s 11d',\n",
       " '000l 31',\n",
       " '000l 31 500',\n",
       " '000l 35at',\n",
       " '000l 35at 10',\n",
       " '000l 44',\n",
       " '000l 44 100',\n",
       " '000l 57',\n",
       " '000l 57 000l',\n",
       " ...]"
      ]
     },
     "execution_count": 27,
     "metadata": {},
     "output_type": "execute_result"
    }
   ],
   "source": [
    "### feature names of tokens are stored in TfidfVectorizer object \n",
    "\n",
    "vectorizer.get_feature_names()"
   ]
  },
  {
   "cell_type": "code",
   "execution_count": 30,
   "metadata": {
    "ExecuteTime": {
     "end_time": "2018-05-07T18:50:48.607329Z",
     "start_time": "2018-05-07T18:50:47.102762Z"
    }
   },
   "outputs": [],
   "source": [
    "### generate a pandas dataframe from the doc-term matrix containing the docs (rows) and the Tf-idf scores for n-grams as columns\n",
    "\n",
    "import pandas as pd\n",
    "\n",
    "econ_corpus_tfidf = pd.DataFrame(X.toarray(), columns=vectorizer.get_feature_names())"
   ]
  },
  {
   "cell_type": "code",
   "execution_count": 31,
   "metadata": {
    "ExecuteTime": {
     "end_time": "2018-05-07T18:52:00.470981Z",
     "start_time": "2018-05-07T18:52:00.128230Z"
    }
   },
   "outputs": [
    {
     "data": {
      "text/html": [
       "<div>\n",
       "<style>\n",
       "    .dataframe thead tr:only-child th {\n",
       "        text-align: right;\n",
       "    }\n",
       "\n",
       "    .dataframe thead th {\n",
       "        text-align: left;\n",
       "    }\n",
       "\n",
       "    .dataframe tbody tr th {\n",
       "        vertical-align: top;\n",
       "    }\n",
       "</style>\n",
       "<table border=\"1\" class=\"dataframe\">\n",
       "  <thead>\n",
       "    <tr style=\"text-align: right;\">\n",
       "      <th></th>\n",
       "      <th>00</th>\n",
       "      <th>00 00</th>\n",
       "      <th>00 00 00</th>\n",
       "      <th>00 00 24</th>\n",
       "      <th>00 00 33</th>\n",
       "      <th>00 00 48</th>\n",
       "      <th>00 00 96</th>\n",
       "      <th>00 12</th>\n",
       "      <th>00 12 00</th>\n",
       "      <th>00 24</th>\n",
       "      <th>...</th>\n",
       "      <th>œuvres complètes tom</th>\n",
       "      <th>τῆς</th>\n",
       "      <th>τῆς φύσεως</th>\n",
       "      <th>τῆς φύσεως indicating</th>\n",
       "      <th>φύσεως</th>\n",
       "      <th>φύσεως indicating</th>\n",
       "      <th>φύσεως indicating reverence</th>\n",
       "      <th>χράτησις</th>\n",
       "      <th>χράτησις τῆς</th>\n",
       "      <th>χράτησις τῆς φύσεως</th>\n",
       "    </tr>\n",
       "  </thead>\n",
       "  <tbody>\n",
       "    <tr>\n",
       "      <th>0</th>\n",
       "      <td>0.000000</td>\n",
       "      <td>0.000000</td>\n",
       "      <td>0.000000</td>\n",
       "      <td>0.000000</td>\n",
       "      <td>0.000000</td>\n",
       "      <td>0.000000</td>\n",
       "      <td>0.000000</td>\n",
       "      <td>0.000000</td>\n",
       "      <td>0.000000</td>\n",
       "      <td>0.000000</td>\n",
       "      <td>...</td>\n",
       "      <td>0.000000</td>\n",
       "      <td>0.000000</td>\n",
       "      <td>0.000000</td>\n",
       "      <td>0.000000</td>\n",
       "      <td>0.000000</td>\n",
       "      <td>0.000000</td>\n",
       "      <td>0.000000</td>\n",
       "      <td>0.000000</td>\n",
       "      <td>0.000000</td>\n",
       "      <td>0.000000</td>\n",
       "    </tr>\n",
       "    <tr>\n",
       "      <th>1</th>\n",
       "      <td>0.000000</td>\n",
       "      <td>0.000000</td>\n",
       "      <td>0.000000</td>\n",
       "      <td>0.000000</td>\n",
       "      <td>0.000000</td>\n",
       "      <td>0.000000</td>\n",
       "      <td>0.000000</td>\n",
       "      <td>0.000000</td>\n",
       "      <td>0.000000</td>\n",
       "      <td>0.000000</td>\n",
       "      <td>...</td>\n",
       "      <td>0.000000</td>\n",
       "      <td>0.000000</td>\n",
       "      <td>0.000000</td>\n",
       "      <td>0.000000</td>\n",
       "      <td>0.000000</td>\n",
       "      <td>0.000000</td>\n",
       "      <td>0.000000</td>\n",
       "      <td>0.000000</td>\n",
       "      <td>0.000000</td>\n",
       "      <td>0.000000</td>\n",
       "    </tr>\n",
       "    <tr>\n",
       "      <th>2</th>\n",
       "      <td>0.008987</td>\n",
       "      <td>0.002344</td>\n",
       "      <td>0.000781</td>\n",
       "      <td>0.000391</td>\n",
       "      <td>0.000391</td>\n",
       "      <td>0.000391</td>\n",
       "      <td>0.000391</td>\n",
       "      <td>0.000391</td>\n",
       "      <td>0.000391</td>\n",
       "      <td>0.002344</td>\n",
       "      <td>...</td>\n",
       "      <td>0.000391</td>\n",
       "      <td>0.000391</td>\n",
       "      <td>0.000391</td>\n",
       "      <td>0.000391</td>\n",
       "      <td>0.000391</td>\n",
       "      <td>0.000391</td>\n",
       "      <td>0.000391</td>\n",
       "      <td>0.000391</td>\n",
       "      <td>0.000391</td>\n",
       "      <td>0.000391</td>\n",
       "    </tr>\n",
       "    <tr>\n",
       "      <th>3</th>\n",
       "      <td>0.000000</td>\n",
       "      <td>0.000000</td>\n",
       "      <td>0.000000</td>\n",
       "      <td>0.000000</td>\n",
       "      <td>0.000000</td>\n",
       "      <td>0.000000</td>\n",
       "      <td>0.000000</td>\n",
       "      <td>0.000000</td>\n",
       "      <td>0.000000</td>\n",
       "      <td>0.000000</td>\n",
       "      <td>...</td>\n",
       "      <td>0.000000</td>\n",
       "      <td>0.000000</td>\n",
       "      <td>0.000000</td>\n",
       "      <td>0.000000</td>\n",
       "      <td>0.000000</td>\n",
       "      <td>0.000000</td>\n",
       "      <td>0.000000</td>\n",
       "      <td>0.000000</td>\n",
       "      <td>0.000000</td>\n",
       "      <td>0.000000</td>\n",
       "    </tr>\n",
       "  </tbody>\n",
       "</table>\n",
       "<p>4 rows × 687520 columns</p>\n",
       "</div>"
      ],
      "text/plain": [
       "         00     00 00  00 00 00  00 00 24  00 00 33  00 00 48  00 00 96  \\\n",
       "0  0.000000  0.000000  0.000000  0.000000  0.000000  0.000000  0.000000   \n",
       "1  0.000000  0.000000  0.000000  0.000000  0.000000  0.000000  0.000000   \n",
       "2  0.008987  0.002344  0.000781  0.000391  0.000391  0.000391  0.000391   \n",
       "3  0.000000  0.000000  0.000000  0.000000  0.000000  0.000000  0.000000   \n",
       "\n",
       "      00 12  00 12 00     00 24         ...           œuvres complètes tom  \\\n",
       "0  0.000000  0.000000  0.000000         ...                       0.000000   \n",
       "1  0.000000  0.000000  0.000000         ...                       0.000000   \n",
       "2  0.000391  0.000391  0.002344         ...                       0.000391   \n",
       "3  0.000000  0.000000  0.000000         ...                       0.000000   \n",
       "\n",
       "        τῆς  τῆς φύσεως  τῆς φύσεως indicating    φύσεως  φύσεως indicating  \\\n",
       "0  0.000000    0.000000               0.000000  0.000000           0.000000   \n",
       "1  0.000000    0.000000               0.000000  0.000000           0.000000   \n",
       "2  0.000391    0.000391               0.000391  0.000391           0.000391   \n",
       "3  0.000000    0.000000               0.000000  0.000000           0.000000   \n",
       "\n",
       "   φύσεως indicating reverence  χράτησις  χράτησις τῆς  χράτησις τῆς φύσεως  \n",
       "0                     0.000000  0.000000      0.000000             0.000000  \n",
       "1                     0.000000  0.000000      0.000000             0.000000  \n",
       "2                     0.000391  0.000391      0.000391             0.000391  \n",
       "3                     0.000000  0.000000      0.000000             0.000000  \n",
       "\n",
       "[4 rows x 687520 columns]"
      ]
     },
     "execution_count": 31,
     "metadata": {},
     "output_type": "execute_result"
    }
   ],
   "source": [
    "econ_corpus_tfidf.head()"
   ]
  },
  {
   "cell_type": "code",
   "execution_count": 32,
   "metadata": {
    "ExecuteTime": {
     "end_time": "2018-05-07T18:52:28.561409Z",
     "start_time": "2018-05-07T18:52:28.351258Z"
    }
   },
   "outputs": [
    {
     "data": {
      "text/plain": [
       "upon         0.275356\n",
       "great        0.206061\n",
       "part         0.182615\n",
       "would        0.164901\n",
       "price        0.164640\n",
       "country      0.161775\n",
       "labour       0.161071\n",
       "one          0.146535\n",
       "greater      0.141325\n",
       "much         0.131296\n",
       "may          0.127909\n",
       "trade        0.126346\n",
       "produce      0.123090\n",
       "must         0.116577\n",
       "therefore    0.113842\n",
       "different    0.111237\n",
       "every        0.107068\n",
       "silver       0.105310\n",
       "quantity     0.103812\n",
       "value        0.103421\n",
       "Name: 0, dtype: float64"
      ]
     },
     "execution_count": 32,
     "metadata": {},
     "output_type": "execute_result"
    }
   ],
   "source": [
    "### top 20 tf-idf scores for 'Wealth of Nations' by Smith relative to the full corpus\n",
    "\n",
    "econ_corpus_tfidf.transpose()[0].sort_values(ascending=False)[:20]"
   ]
  },
  {
   "cell_type": "code",
   "execution_count": 66,
   "metadata": {
    "ExecuteTime": {
     "end_time": "2018-05-07T20:08:24.968773Z",
     "start_time": "2018-05-07T20:08:24.770632Z"
    },
    "collapsed": true
   },
   "outputs": [],
   "source": [
    "top20_Smith = econ_corpus_tfidf.transpose()[0].sort_values(ascending=False)[:20]\n",
    "top20_Smith = top20_Smith.to_dict()"
   ]
  },
  {
   "cell_type": "code",
   "execution_count": 67,
   "metadata": {
    "ExecuteTime": {
     "end_time": "2018-05-07T20:08:38.164268Z",
     "start_time": "2018-05-07T20:08:37.918094Z"
    }
   },
   "outputs": [
    {
     "data": {
      "image/png": "[encoded data removed]",
      "text/plain": [
       "<matplotlib.figure.Figure at 0x23d04a72dd8>"
      ]
     },
     "metadata": {},
     "output_type": "display_data"
    }
   ],
   "source": [
    "from wordcloud import WordCloud\n",
    "\n",
    "# Generate a word cloud image\n",
    "wordcloud = WordCloud( background_color='white',\n",
    "                          stopwords=stopwords,\n",
    "                          max_words=200,\n",
    "                          max_font_size=40, \n",
    "                          random_state=42)\n",
    "wordcloud.generate_from_frequencies(top20_Smith)\n",
    "\n",
    "# Display the generated image:\n",
    "# the matplotlib way:\n",
    "import matplotlib.pyplot as plt\n",
    "plt.imshow(wordcloud, interpolation='bilinear')\n",
    "plt.axis(\"off\")\n",
    "plt.show() "
   ]
  },
  {
   "cell_type": "code",
   "execution_count": 33,
   "metadata": {
    "ExecuteTime": {
     "end_time": "2018-05-07T18:54:19.885308Z",
     "start_time": "2018-05-07T18:54:19.633195Z"
    }
   },
   "outputs": [
    {
     "data": {
      "text/plain": [
       "would          0.400388\n",
       "price          0.293920\n",
       "value          0.256826\n",
       "labour         0.219236\n",
       "produce        0.168763\n",
       "capital        0.167347\n",
       "corn           0.160552\n",
       "rent           0.155171\n",
       "quantity       0.149791\n",
       "commodities    0.144411\n",
       "money          0.143845\n",
       "profits        0.143562\n",
       "tax            0.139031\n",
       "wages          0.124590\n",
       "land           0.123741\n",
       "rise           0.121759\n",
       "country        0.103353\n",
       "may            0.099106\n",
       "fall           0.088063\n",
       "per            0.084948\n",
       "Name: 1, dtype: float64"
      ]
     },
     "execution_count": 33,
     "metadata": {},
     "output_type": "execute_result"
    }
   ],
   "source": [
    "### top 20 tf-idf scores for 'On the Principles of Political Economy and Taxation' by Ricardo relative to the full corpus\n",
    "\n",
    "econ_corpus_tfidf.transpose()[1].sort_values(ascending=False)[:20]"
   ]
  },
  {
   "cell_type": "code",
   "execution_count": 64,
   "metadata": {
    "ExecuteTime": {
     "end_time": "2018-05-07T20:08:24.968773Z",
     "start_time": "2018-05-07T20:08:24.770632Z"
    },
    "collapsed": true
   },
   "outputs": [],
   "source": [
    "top20_Ricardo = econ_corpus_tfidf.transpose()[1].sort_values(ascending=False)[:20]\n",
    "top20_Ricardo = top20_Ricardo.to_dict()"
   ]
  },
  {
   "cell_type": "code",
   "execution_count": 65,
   "metadata": {
    "ExecuteTime": {
     "end_time": "2018-05-07T20:08:38.164268Z",
     "start_time": "2018-05-07T20:08:37.918094Z"
    }
   },
   "outputs": [
    {
     "data": {
      "image/png": "[encoded data removed]",
      "text/plain": [
       "<matplotlib.figure.Figure at 0x23d057e2d68>"
      ]
     },
     "metadata": {},
     "output_type": "display_data"
    }
   ],
   "source": [
    "from wordcloud import WordCloud\n",
    "\n",
    "# Generate a word cloud image\n",
    "wordcloud = WordCloud( background_color='white',\n",
    "                          stopwords=stopwords,\n",
    "                          max_words=200,\n",
    "                          max_font_size=40, \n",
    "                          random_state=42)\n",
    "wordcloud.generate_from_frequencies(top20_Ricardo)\n",
    "\n",
    "# Display the generated image:\n",
    "# the matplotlib way:\n",
    "import matplotlib.pyplot as plt\n",
    "plt.imshow(wordcloud, interpolation='bilinear')\n",
    "plt.axis(\"off\")\n",
    "plt.show() "
   ]
  },
  {
   "cell_type": "code",
   "execution_count": 34,
   "metadata": {
    "ExecuteTime": {
     "end_time": "2018-05-07T18:56:31.350466Z",
     "start_time": "2018-05-07T18:56:31.126027Z"
    }
   },
   "outputs": [
    {
     "data": {
      "text/plain": [
       "labor            0.359085\n",
       "would            0.213893\n",
       "capital          0.210426\n",
       "money            0.171481\n",
       "value            0.166384\n",
       "one              0.155985\n",
       "production       0.155781\n",
       "wages            0.155169\n",
       "pg               0.132536\n",
       "cost             0.129681\n",
       "may              0.126011\n",
       "country          0.118467\n",
       "laborers         0.112141\n",
       "states           0.103582\n",
       "demand           0.100727\n",
       "increase         0.096445\n",
       "united           0.095222\n",
       "price            0.094406\n",
       "land             0.094202\n",
       "united states    0.092775\n",
       "Name: 2, dtype: float64"
      ]
     },
     "execution_count": 34,
     "metadata": {},
     "output_type": "execute_result"
    }
   ],
   "source": [
    "### top 20 tf-idf scores for 'Principles of Political Economy' by Mill relative to the full corpus\n",
    "\n",
    "econ_corpus_tfidf.transpose()[2].sort_values(ascending=False)[:20]"
   ]
  },
  {
   "cell_type": "code",
   "execution_count": 60,
   "metadata": {
    "ExecuteTime": {
     "end_time": "2018-05-07T20:04:04.943794Z",
     "start_time": "2018-05-07T20:04:04.757663Z"
    },
    "collapsed": true
   },
   "outputs": [],
   "source": [
    "top20_Mill = econ_corpus_tfidf.transpose()[2].sort_values(ascending=False)[:20]\n",
    "top20_Mill = top20_Mill.to_dict()"
   ]
  },
  {
   "cell_type": "code",
   "execution_count": 61,
   "metadata": {
    "ExecuteTime": {
     "end_time": "2018-05-07T20:04:18.454289Z",
     "start_time": "2018-05-07T20:04:18.223107Z"
    }
   },
   "outputs": [
    {
     "data": {
      "image/png": "[encoded data removed]",
      "text/plain": [
       "<matplotlib.figure.Figure at 0x23d056284a8>"
      ]
     },
     "metadata": {},
     "output_type": "display_data"
    }
   ],
   "source": [
    "from wordcloud import WordCloud\n",
    "\n",
    "# Generate a word cloud image\n",
    "wordcloud = WordCloud( background_color='white',\n",
    "                          stopwords=stopwords,\n",
    "                          max_words=200,\n",
    "                          max_font_size=40, \n",
    "                          random_state=42)\n",
    "wordcloud.generate_from_frequencies(top20_Mill)\n",
    "\n",
    "# Display the generated image:\n",
    "# the matplotlib way:\n",
    "import matplotlib.pyplot as plt\n",
    "plt.imshow(wordcloud, interpolation='bilinear')\n",
    "plt.axis(\"off\")\n",
    "plt.show() "
   ]
  },
  {
   "cell_type": "code",
   "execution_count": 35,
   "metadata": {
    "ExecuteTime": {
     "end_time": "2018-05-07T18:57:55.053814Z",
     "start_time": "2018-05-07T18:57:54.867681Z"
    }
   },
   "outputs": [
    {
     "data": {
      "text/plain": [
       "bourgeoisie    0.243001\n",
       "one            0.237654\n",
       "workers        0.215700\n",
       "working        0.206174\n",
       "work           0.185335\n",
       "upon           0.149864\n",
       "class          0.124591\n",
       "men            0.123704\n",
       "children       0.118827\n",
       "working men    0.111200\n",
       "every          0.102422\n",
       "english        0.099762\n",
       "great          0.097101\n",
       "manchester     0.093822\n",
       "must           0.092224\n",
       "bourgeois      0.091763\n",
       "whole          0.089564\n",
       "proletariat    0.089214\n",
       "factory        0.086772\n",
       "england        0.085573\n",
       "Name: 3, dtype: float64"
      ]
     },
     "execution_count": 35,
     "metadata": {},
     "output_type": "execute_result"
    }
   ],
   "source": [
    "### top 20 tf-idf scores for 'The Condition of the Working-Class in England in 1844' by Engels relative to the full corpus\n",
    "\n",
    "econ_corpus_tfidf.transpose()[3].sort_values(ascending=False)[:20]"
   ]
  },
  {
   "cell_type": "code",
   "execution_count": 49,
   "metadata": {
    "ExecuteTime": {
     "end_time": "2018-05-07T19:49:20.964877Z",
     "start_time": "2018-05-07T19:49:20.800252Z"
    },
    "collapsed": true
   },
   "outputs": [],
   "source": [
    "top20_Engels = econ_corpus_tfidf.transpose()[3].sort_values(ascending=False)[:20]\n",
    "top20_Engels = top20_Engels.to_dict()\n"
   ]
  },
  {
   "cell_type": "code",
   "execution_count": 50,
   "metadata": {
    "ExecuteTime": {
     "end_time": "2018-05-07T19:49:34.639298Z",
     "start_time": "2018-05-07T19:49:34.628292Z"
    }
   },
   "outputs": [
    {
     "data": {
      "text/plain": [
       "{'bourgeois': 0.091762623155125331,\n",
       " 'bourgeoisie': 0.24300102057746156,\n",
       " 'children': 0.11882708936806625,\n",
       " 'class': 0.12459108997174111,\n",
       " 'england': 0.085573239731480538,\n",
       " 'english': 0.099761548909757108,\n",
       " 'every': 0.10242185688068396,\n",
       " 'factory': 0.086771694377305988,\n",
       " 'great': 0.097101240938830255,\n",
       " 'manchester': 0.093821894545462095,\n",
       " 'men': 0.12370432064809882,\n",
       " 'must': 0.092224009658797679,\n",
       " 'one': 0.23765417873613251,\n",
       " 'proletariat': 0.089213661400816296,\n",
       " 'upon': 0.14986401569554625,\n",
       " 'whole': 0.089563701687870825,\n",
       " 'work': 0.18533478864123765,\n",
       " 'workers': 0.21570036446107266,\n",
       " 'working': 0.20617386774683136,\n",
       " 'working men': 0.11119956677185733}"
      ]
     },
     "execution_count": 50,
     "metadata": {},
     "output_type": "execute_result"
    }
   ],
   "source": [
    "top20_Engels"
   ]
  },
  {
   "cell_type": "code",
   "execution_count": 57,
   "metadata": {
    "ExecuteTime": {
     "end_time": "2018-05-07T19:55:44.730181Z",
     "start_time": "2018-05-07T19:55:44.397943Z"
    }
   },
   "outputs": [
    {
     "data": {
      "image/png": "[encoded data removed]",
      "text/plain": [
       "<matplotlib.figure.Figure at 0x23ce0bb37f0>"
      ]
     },
     "metadata": {},
     "output_type": "display_data"
    }
   ],
   "source": [
    "from wordcloud import WordCloud\n",
    "\n",
    "# Generate a word cloud image\n",
    "wordcloud = WordCloud( background_color='white',\n",
    "                          stopwords=stopwords,\n",
    "                          max_words=200,\n",
    "                          max_font_size=40, \n",
    "                          random_state=42)\n",
    "wordcloud.generate_from_frequencies(top20_Engels)\n",
    "\n",
    "# Display the generated image:\n",
    "# the matplotlib way:\n",
    "import matplotlib.pyplot as plt\n",
    "plt.imshow(wordcloud, interpolation='bilinear')\n",
    "plt.axis(\"off\")\n",
    "plt.show() \n"
   ]
  },
  {
   "cell_type": "code",
   "execution_count": 74,
   "metadata": {
    "ExecuteTime": {
     "end_time": "2018-05-07T22:50:48.227578Z",
     "start_time": "2018-05-07T22:50:33.543062Z"
    },
    "collapsed": true
   },
   "outputs": [],
   "source": [
    "from sklearn.utils.extmath import randomized_svd\n",
    "\n",
    "U, S, V = randomized_svd(X.transpose(), \n",
    "                              n_components=12,\n",
    "                              n_iter=100,\n",
    "                              random_state=None)"
   ]
  },
  {
   "cell_type": "code",
   "execution_count": 75,
   "metadata": {
    "ExecuteTime": {
     "end_time": "2018-05-07T22:51:00.959874Z",
     "start_time": "2018-05-07T22:51:00.951867Z"
    }
   },
   "outputs": [
    {
     "data": {
      "text/plain": [
       "(687520, 4)"
      ]
     },
     "execution_count": 75,
     "metadata": {},
     "output_type": "execute_result"
    }
   ],
   "source": [
    "U.shape"
   ]
  },
  {
   "cell_type": "code",
   "execution_count": 76,
   "metadata": {
    "ExecuteTime": {
     "end_time": "2018-05-07T22:51:22.223196Z",
     "start_time": "2018-05-07T22:51:22.216189Z"
    }
   },
   "outputs": [
    {
     "data": {
      "text/plain": [
       "(4,)"
      ]
     },
     "execution_count": 76,
     "metadata": {},
     "output_type": "execute_result"
    }
   ],
   "source": [
    "S.shape"
   ]
  },
  {
   "cell_type": "code",
   "execution_count": 77,
   "metadata": {
    "ExecuteTime": {
     "end_time": "2018-05-07T22:51:35.508737Z",
     "start_time": "2018-05-07T22:51:35.499728Z"
    }
   },
   "outputs": [
    {
     "data": {
      "text/plain": [
       "(4, 4)"
      ]
     },
     "execution_count": 77,
     "metadata": {},
     "output_type": "execute_result"
    }
   ],
   "source": [
    "V.shape"
   ]
  },
  {
   "cell_type": "code",
   "execution_count": 72,
   "metadata": {
    "ExecuteTime": {
     "end_time": "2018-05-07T22:47:03.462883Z",
     "start_time": "2018-05-07T22:47:03.452877Z"
    }
   },
   "outputs": [
    {
     "data": {
      "text/plain": [
       "(4, 687520)"
      ]
     },
     "execution_count": 72,
     "metadata": {},
     "output_type": "execute_result"
    }
   ],
   "source": [
    "X.shape"
   ]
  },
  {
   "cell_type": "code",
   "execution_count": 73,
   "metadata": {
    "ExecuteTime": {
     "end_time": "2018-05-07T22:47:42.761729Z",
     "start_time": "2018-05-07T22:47:42.744717Z"
    }
   },
   "outputs": [
    {
     "data": {
      "text/plain": [
       "array([ 1.59524148,  0.8682148 ,  0.63162658,  0.54995958])"
      ]
     },
     "execution_count": 73,
     "metadata": {},
     "output_type": "execute_result"
    }
   ],
   "source": [
    "S"
   ]
  },
  {
   "cell_type": "code",
   "execution_count": null,
   "metadata": {
    "collapsed": true
   },
   "outputs": [],
   "source": []
  }
 ],
 "metadata": {
  "kernelspec": {
   "display_name": "Python 3",
   "language": "python",
   "name": "python3"
  },
  "language_info": {
   "codemirror_mode": {
    "name": "ipython",
    "version": 3
   },
   "file_extension": ".py",
   "mimetype": "text/x-python",
   "name": "python",
   "nbconvert_exporter": "python",
   "pygments_lexer": "ipython3",
   "version": "3.6.1"
  },
  "toc": {
   "nav_menu": {},
   "number_sections": true,
   "sideBar": true,
   "skip_h1_title": false,
   "toc_cell": false,
   "toc_position": {},
   "toc_section_display": "block",
   "toc_window_display": false
  },
  "varInspector": {
   "cols": {
    "lenName": 16,
    "lenType": 16,
    "lenVar": 40
   },
   "kernels_config": {
    "python": {
     "delete_cmd_postfix": "",
     "delete_cmd_prefix": "del ",
     "library": "var_list.py",
     "varRefreshCmd": "print(var_dic_list())"
    },
    "r": {
     "delete_cmd_postfix": ") ",
     "delete_cmd_prefix": "rm(",
     "library": "var_list.r",
     "varRefreshCmd": "cat(var_dic_list()) "
    }
   },
   "types_to_exclude": [
    "module",
    "function",
    "builtin_function_or_method",
    "instance",
    "_Feature"
   ],
   "window_display": false
  }
 },
 "nbformat": 4,
 "nbformat_minor": 2
}
